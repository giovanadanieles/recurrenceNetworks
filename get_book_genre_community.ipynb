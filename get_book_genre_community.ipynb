{
 "cells": [
  {
   "cell_type": "code",
   "execution_count": 1,
   "metadata": {},
   "outputs": [],
   "source": [
    "import xnetwork as xn\n",
    "from igraph import *\n",
    "import matplotlib.pyplot as plt\n",
    "\n",
    "# dic[subject] = community\n",
    "# Community 0: fiction\n",
    "# Community 1: juvenile fiction\n",
    "# essas duas sao bem concentradas e definidinhas, o restante ja era bem mais espalhado, dai nao \n",
    "# estudei muito oq cada uma quer dizer\n",
    "\n",
    "# coloquei o padrao pra 10 comunidades, pq me falaram pra fazer assim ha um tempo atras kkk mas acabamos mudando pra 3\n",
    "# ai se vc chamar a funcao com 3 vai acabar ficando 0=ficcao, 1=ficcao juvenil e 2=outros\n",
    "# e inclusive pra mim depois acabamos juntando 0 com 1 e ficando so com \"ficcao generico\" ou \"outros\" haha\n",
    "# dai vc ve oq functiona melhor pra vc hahah qualquer coisa me avisa :)\n",
    "def get_community_labels(n_comm=10):\n",
    "\n",
    "    G = xn.xnet2igraph('projection_onto_subjects_comm.xnet')\n",
    "\n",
    "    dic_subj_comm = {}\n",
    "\n",
    "    for v in G.vs:\n",
    "        dic_subj_comm[v['name']] = int(v['Community']) if int(v['Community']) < n_comm - 1 else n_comm - 1\n",
    "\n",
    "    return dic_subj_comm"
   ]
  },
  {
   "cell_type": "code",
   "execution_count": 14,
   "metadata": {},
   "outputs": [],
   "source": [
    "from collections import Counter\n",
    "from gutenberg.query import get_metadata\n",
    "\n",
    "def retrieve_subjects(index):\n",
    "    return list(get_metadata('subject', index))\n",
    "\n",
    "def format_subject(subject):\n",
    "    return ''.join(c for c in subject if c.lower() in 'abcdefghijklmnopqrstuvwxyz1234567890 -')\n",
    "\n",
    "def get_book_community(dic_subj_comm, book_id):\n",
    "    subjects = [format_subject(subj) for subj in retrieve_subjects(book_id)]\n",
    "    targets = [dic_subj_comm[subj] for subj in subjects]\n",
    "\n",
    "    most_common = Counter(targets).most_common(1)\n",
    "    if len(most_common) > 0 and (most_common[0][0] == 0 or most_common[0][0] == 1):\n",
    "        return 0\n",
    "    return 1"
   ]
  },
  {
   "cell_type": "code",
   "execution_count": 15,
   "metadata": {},
   "outputs": [
    {
     "data": {
      "text/plain": [
       "0"
      ]
     },
     "execution_count": 15,
     "metadata": {},
     "output_type": "execute_result"
    }
   ],
   "source": [
    "# book_id de alice no pais das maravilhas: 11\n",
    "dic = get_community_labels()\n",
    "get_book_community(dic, 11)"
   ]
  },
  {
   "cell_type": "code",
   "execution_count": 11,
   "metadata": {},
   "outputs": [
    {
     "data": {
      "text/plain": [
       "[(0, 111)]"
      ]
     },
     "execution_count": 11,
     "metadata": {},
     "output_type": "execute_result"
    }
   ],
   "source": [
    "Counter(labels).most_common(1)"
   ]
  },
  {
   "cell_type": "code",
   "execution_count": 5,
   "metadata": {},
   "outputs": [],
   "source": [
    "import os\n",
    "\n",
    "ids = []\n",
    "path = './pca 300 networks new right/'\n",
    "directory = os.fsencode(path)\n",
    "\n",
    "for file in os.listdir(directory):\n",
    "    filename = path + os.fsdecode(file)\n",
    "    if filename.endswith(\"_RP.tsv\"):\n",
    "        start = len(path) + len('network_')\n",
    "        end = len('_RP.tsv')\n",
    "        gutenberg_id = filename[start:-end]\n",
    "        ids.append(gutenberg_id)"
   ]
  },
  {
   "cell_type": "code",
   "execution_count": 16,
   "metadata": {},
   "outputs": [
    {
     "data": {
      "text/plain": [
       "Counter({0: 182, 1: 118})"
      ]
     },
     "execution_count": 16,
     "metadata": {},
     "output_type": "execute_result"
    }
   ],
   "source": [
    "labels = []\n",
    "for id in ids:\n",
    "    labels.append(get_book_community(dic, id))\n",
    "    \n",
    "Counter(labels)"
   ]
  },
  {
   "cell_type": "code",
   "execution_count": 19,
   "metadata": {},
   "outputs": [],
   "source": [
    "import pandas as pd\n",
    "\n",
    "df = pd.DataFrame()\n",
    "df['gutenberg_id'] = ids\n",
    "df['label'] = labels\n",
    "\n",
    "df.to_csv('genre_labels.csv', index=False)"
   ]
  }
 ],
 "metadata": {
  "kernelspec": {
   "display_name": "Python 3",
   "language": "python",
   "name": "python3"
  },
  "language_info": {
   "codemirror_mode": {
    "name": "ipython",
    "version": 3
   },
   "file_extension": ".py",
   "mimetype": "text/x-python",
   "name": "python",
   "nbconvert_exporter": "python",
   "pygments_lexer": "ipython3",
   "version": "3.7.9"
  }
 },
 "nbformat": 4,
 "nbformat_minor": 4
}
